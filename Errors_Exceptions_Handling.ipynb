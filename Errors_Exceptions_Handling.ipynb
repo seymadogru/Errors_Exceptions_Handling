{
 "cells": [
  {
   "cell_type": "markdown",
   "id": "015ffdc9",
   "metadata": {},
   "source": [
    "Parametre olarak girilen ilk sayıyı, ikinci sayıya bölen ve sonucu yazdıran bir kod yazın. Ancak kodumuz 0'a bölme durumunda bir uyarı versin!\n",
    "\n",
    "Parametre olarak girilen listeyi sıralayan bir fonksiyon yazın ve aşağıdaki liste ile deneyin.\n",
    "\n",
    "liste = ['Merhaba', 42, 3.414, True, None]"
   ]
  },
  {
   "cell_type": "markdown",
   "id": "63ef6ae2",
   "metadata": {},
   "source": [
    "1)Parametre olarak girilen ilk sayıyı, ikinci sayıya bölen ve sonucu yazdıran bir kod yazın. Ancak kodumuz 0'a bölme durumunda bir uyarı versin!"
   ]
  },
  {
   "cell_type": "code",
   "execution_count": 1,
   "id": "4a55628e",
   "metadata": {},
   "outputs": [
    {
     "name": "stdout",
     "output_type": "stream",
     "text": [
      "0'a bölüm hatası!!!!\n"
     ]
    }
   ],
   "source": [
    "def bolum(ilk_sayi,ikinci_sayi):\n",
    "  if ikinci_sayi==0:\n",
    "    print(\"0'a bölüm hatası!!!!\")\n",
    "  else:\n",
    "    print(ilk_sayi/ikinci_sayi)\n",
    "\n",
    "bolum(5,0)"
   ]
  },
  {
   "cell_type": "markdown",
   "id": "967a17f2",
   "metadata": {},
   "source": [
    "2.Parametre olarak girilen listeyi sıralayan bir fonksiyon yazın ve aşağıdaki liste ile deneyin."
   ]
  },
  {
   "cell_type": "code",
   "execution_count": 2,
   "id": "5026cfe9",
   "metadata": {},
   "outputs": [
    {
     "name": "stdout",
     "output_type": "stream",
     "text": [
      "verdiğiniz liste sayısal ifadelerden oluşmuyor,sıralayamıyoruz\n"
     ]
    }
   ],
   "source": [
    "def siralama(args):\n",
    "  for i in args:\n",
    "    try:\n",
    "      i = int(i)\n",
    "    except:\n",
    "      print(\"verdiğiniz liste sayısal ifadelerden oluşmuyor,sıralayamıyoruz\")\n",
    "      break\n",
    "    else:\n",
    "      args.sort()\n",
    "      return args \n",
    "      break   \n",
    "siralama(['Merhaba', 42, 3.414, True, None]) "
   ]
  },
  {
   "cell_type": "code",
   "execution_count": null,
   "id": "e8ba93b4",
   "metadata": {},
   "outputs": [],
   "source": []
  }
 ],
 "metadata": {
  "kernelspec": {
   "display_name": "Python 3",
   "language": "python",
   "name": "python3"
  },
  "language_info": {
   "codemirror_mode": {
    "name": "ipython",
    "version": 3
   },
   "file_extension": ".py",
   "mimetype": "text/x-python",
   "name": "python",
   "nbconvert_exporter": "python",
   "pygments_lexer": "ipython3",
   "version": "3.8.8"
  }
 },
 "nbformat": 4,
 "nbformat_minor": 5
}
